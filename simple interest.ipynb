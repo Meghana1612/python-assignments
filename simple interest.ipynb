{
 "cells": [
  {
   "cell_type": "code",
   "execution_count": 1,
   "metadata": {},
   "outputs": [
    {
     "name": "stdout",
     "output_type": "stream",
     "text": [
      "principle is:12\n",
      "time is:2\n",
      "rate is:1.5\n",
      "simple intrest is : 0.36\n"
     ]
    }
   ],
   "source": [
    "p=int(input(\"principle is:\"))\n",
    "t=int(input(\"time is:\"))\n",
    "r=float(input(\"rate is:\"))\n",
    "si=(p*t*r)/100\n",
    "print(\"simple intrest is :\",si)"
   ]
  },
  {
   "cell_type": "code",
   "execution_count": null,
   "metadata": {},
   "outputs": [],
   "source": []
  }
 ],
 "metadata": {
  "kernelspec": {
   "display_name": "Python 3",
   "language": "python",
   "name": "python3"
  },
  "language_info": {
   "codemirror_mode": {
    "name": "ipython",
    "version": 3
   },
   "file_extension": ".py",
   "mimetype": "text/x-python",
   "name": "python",
   "nbconvert_exporter": "python",
   "pygments_lexer": "ipython3",
   "version": "3.6.10"
  }
 },
 "nbformat": 4,
 "nbformat_minor": 4
}
