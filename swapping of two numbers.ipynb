{
 "cells": [
  {
   "cell_type": "code",
   "execution_count": 1,
   "metadata": {},
   "outputs": [
    {
     "name": "stdout",
     "output_type": "stream",
     "text": [
      "enter the value of x:5\n",
      "enter the value of y:8\n",
      "value of x before swapping 5\n",
      "value of y before swapping: 8\n",
      "after swapping\n",
      "value of x after swapping 8\n",
      "value of y after swappping 5\n"
     ]
    }
   ],
   "source": [
    "x=input(\"enter the value of x:\")\n",
    "y=input(\"enter the value of y:\")\n",
    "print(\"value of x before swapping\",x)\n",
    "print(\"value of y before swapping:\",y)\n",
    "temp=x\n",
    "x=y\n",
    "y=temp\n",
    "print(\"after swapping\")\n",
    "print (\"value of x after swapping\" ,x)\n",
    "print(\"value of y after swappping\",y)"
   ]
  },
  {
   "cell_type": "code",
   "execution_count": null,
   "metadata": {},
   "outputs": [],
   "source": []
  }
 ],
 "metadata": {
  "kernelspec": {
   "display_name": "Python 3",
   "language": "python",
   "name": "python3"
  },
  "language_info": {
   "codemirror_mode": {
    "name": "ipython",
    "version": 3
   },
   "file_extension": ".py",
   "mimetype": "text/x-python",
   "name": "python",
   "nbconvert_exporter": "python",
   "pygments_lexer": "ipython3",
   "version": "3.6.10"
  }
 },
 "nbformat": 4,
 "nbformat_minor": 4
}
